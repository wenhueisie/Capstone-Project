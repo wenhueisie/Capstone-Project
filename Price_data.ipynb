{
 "cells": [
  {
   "cell_type": "code",
   "execution_count": 1,
   "metadata": {},
   "outputs": [],
   "source": [
    "import pandas as pd\n",
    "import matplotlib.pyplot as plt"
   ]
  },
  {
   "cell_type": "markdown",
   "metadata": {},
   "source": [
    "# Import dataset"
   ]
  },
  {
   "cell_type": "code",
   "execution_count": 2,
   "metadata": {},
   "outputs": [
    {
     "data": {
      "text/html": [
       "<div>\n",
       "<style scoped>\n",
       "    .dataframe tbody tr th:only-of-type {\n",
       "        vertical-align: middle;\n",
       "    }\n",
       "\n",
       "    .dataframe tbody tr th {\n",
       "        vertical-align: top;\n",
       "    }\n",
       "\n",
       "    .dataframe thead th {\n",
       "        text-align: right;\n",
       "    }\n",
       "</style>\n",
       "<table border=\"1\" class=\"dataframe\">\n",
       "  <thead>\n",
       "    <tr style=\"text-align: right;\">\n",
       "      <th></th>\n",
       "      <th>quarter</th>\n",
       "      <th>town</th>\n",
       "      <th>flat_type</th>\n",
       "      <th>price</th>\n",
       "    </tr>\n",
       "  </thead>\n",
       "  <tbody>\n",
       "    <tr>\n",
       "      <td>0</td>\n",
       "      <td>2007-Q2</td>\n",
       "      <td>Ang Mo Kio</td>\n",
       "      <td>1-room</td>\n",
       "      <td>na</td>\n",
       "    </tr>\n",
       "    <tr>\n",
       "      <td>1</td>\n",
       "      <td>2007-Q2</td>\n",
       "      <td>Ang Mo Kio</td>\n",
       "      <td>2-room</td>\n",
       "      <td>-</td>\n",
       "    </tr>\n",
       "    <tr>\n",
       "      <td>2</td>\n",
       "      <td>2007-Q2</td>\n",
       "      <td>Ang Mo Kio</td>\n",
       "      <td>3-room</td>\n",
       "      <td>172000</td>\n",
       "    </tr>\n",
       "    <tr>\n",
       "      <td>3</td>\n",
       "      <td>2007-Q2</td>\n",
       "      <td>Ang Mo Kio</td>\n",
       "      <td>4-room</td>\n",
       "      <td>260000</td>\n",
       "    </tr>\n",
       "    <tr>\n",
       "      <td>4</td>\n",
       "      <td>2007-Q2</td>\n",
       "      <td>Ang Mo Kio</td>\n",
       "      <td>5-room</td>\n",
       "      <td>372000</td>\n",
       "    </tr>\n",
       "    <tr>\n",
       "      <td>...</td>\n",
       "      <td>...</td>\n",
       "      <td>...</td>\n",
       "      <td>...</td>\n",
       "      <td>...</td>\n",
       "    </tr>\n",
       "    <tr>\n",
       "      <td>7951</td>\n",
       "      <td>2019-Q4</td>\n",
       "      <td>YISHUN</td>\n",
       "      <td>2-ROOM</td>\n",
       "      <td>-</td>\n",
       "    </tr>\n",
       "    <tr>\n",
       "      <td>7952</td>\n",
       "      <td>2019-Q4</td>\n",
       "      <td>YISHUN</td>\n",
       "      <td>3-ROOM</td>\n",
       "      <td>265000</td>\n",
       "    </tr>\n",
       "    <tr>\n",
       "      <td>7953</td>\n",
       "      <td>2019-Q4</td>\n",
       "      <td>YISHUN</td>\n",
       "      <td>4-ROOM</td>\n",
       "      <td>370000</td>\n",
       "    </tr>\n",
       "    <tr>\n",
       "      <td>7954</td>\n",
       "      <td>2019-Q4</td>\n",
       "      <td>YISHUN</td>\n",
       "      <td>5-ROOM</td>\n",
       "      <td>470000</td>\n",
       "    </tr>\n",
       "    <tr>\n",
       "      <td>7955</td>\n",
       "      <td>2019-Q4</td>\n",
       "      <td>YISHUN</td>\n",
       "      <td>EXEC</td>\n",
       "      <td>565000</td>\n",
       "    </tr>\n",
       "  </tbody>\n",
       "</table>\n",
       "<p>7956 rows × 4 columns</p>\n",
       "</div>"
      ],
      "text/plain": [
       "      quarter        town flat_type   price\n",
       "0     2007-Q2  Ang Mo Kio    1-room      na\n",
       "1     2007-Q2  Ang Mo Kio    2-room       -\n",
       "2     2007-Q2  Ang Mo Kio    3-room  172000\n",
       "3     2007-Q2  Ang Mo Kio    4-room  260000\n",
       "4     2007-Q2  Ang Mo Kio    5-room  372000\n",
       "...       ...         ...       ...     ...\n",
       "7951  2019-Q4      YISHUN    2-ROOM       -\n",
       "7952  2019-Q4      YISHUN    3-ROOM  265000\n",
       "7953  2019-Q4      YISHUN    4-ROOM  370000\n",
       "7954  2019-Q4      YISHUN    5-ROOM  470000\n",
       "7955  2019-Q4      YISHUN      EXEC  565000\n",
       "\n",
       "[7956 rows x 4 columns]"
      ]
     },
     "execution_count": 2,
     "metadata": {},
     "output_type": "execute_result"
    }
   ],
   "source": [
    "# read csv\n",
    "df=pd.read_csv(\"flat_price.csv\")\n",
    "df"
   ]
  },
  {
   "cell_type": "code",
   "execution_count": 3,
   "metadata": {},
   "outputs": [
    {
     "data": {
      "text/html": [
       "<div>\n",
       "<style scoped>\n",
       "    .dataframe tbody tr th:only-of-type {\n",
       "        vertical-align: middle;\n",
       "    }\n",
       "\n",
       "    .dataframe tbody tr th {\n",
       "        vertical-align: top;\n",
       "    }\n",
       "\n",
       "    .dataframe thead th {\n",
       "        text-align: right;\n",
       "    }\n",
       "</style>\n",
       "<table border=\"1\" class=\"dataframe\">\n",
       "  <thead>\n",
       "    <tr style=\"text-align: right;\">\n",
       "      <th></th>\n",
       "      <th>quarter</th>\n",
       "      <th>town</th>\n",
       "      <th>flat_type</th>\n",
       "      <th>price</th>\n",
       "    </tr>\n",
       "  </thead>\n",
       "  <tbody>\n",
       "    <tr>\n",
       "      <td>7802</td>\n",
       "      <td>2019-Q4</td>\n",
       "      <td>ANG MO KIO</td>\n",
       "      <td>3-ROOM</td>\n",
       "      <td>270000</td>\n",
       "    </tr>\n",
       "    <tr>\n",
       "      <td>7803</td>\n",
       "      <td>2019-Q4</td>\n",
       "      <td>ANG MO KIO</td>\n",
       "      <td>4-ROOM</td>\n",
       "      <td>397500</td>\n",
       "    </tr>\n",
       "    <tr>\n",
       "      <td>7804</td>\n",
       "      <td>2019-Q4</td>\n",
       "      <td>ANG MO KIO</td>\n",
       "      <td>5-ROOM</td>\n",
       "      <td>614000</td>\n",
       "    </tr>\n",
       "    <tr>\n",
       "      <td>7805</td>\n",
       "      <td>2019-Q4</td>\n",
       "      <td>ANG MO KIO</td>\n",
       "      <td>EXEC</td>\n",
       "      <td>NaN</td>\n",
       "    </tr>\n",
       "    <tr>\n",
       "      <td>7808</td>\n",
       "      <td>2019-Q4</td>\n",
       "      <td>BEDOK</td>\n",
       "      <td>3-ROOM</td>\n",
       "      <td>275000</td>\n",
       "    </tr>\n",
       "    <tr>\n",
       "      <td>...</td>\n",
       "      <td>...</td>\n",
       "      <td>...</td>\n",
       "      <td>...</td>\n",
       "      <td>...</td>\n",
       "    </tr>\n",
       "    <tr>\n",
       "      <td>7949</td>\n",
       "      <td>2019-Q4</td>\n",
       "      <td>WOODLANDS</td>\n",
       "      <td>EXEC</td>\n",
       "      <td>550000</td>\n",
       "    </tr>\n",
       "    <tr>\n",
       "      <td>7952</td>\n",
       "      <td>2019-Q4</td>\n",
       "      <td>YISHUN</td>\n",
       "      <td>3-ROOM</td>\n",
       "      <td>265000</td>\n",
       "    </tr>\n",
       "    <tr>\n",
       "      <td>7953</td>\n",
       "      <td>2019-Q4</td>\n",
       "      <td>YISHUN</td>\n",
       "      <td>4-ROOM</td>\n",
       "      <td>370000</td>\n",
       "    </tr>\n",
       "    <tr>\n",
       "      <td>7954</td>\n",
       "      <td>2019-Q4</td>\n",
       "      <td>YISHUN</td>\n",
       "      <td>5-ROOM</td>\n",
       "      <td>470000</td>\n",
       "    </tr>\n",
       "    <tr>\n",
       "      <td>7955</td>\n",
       "      <td>2019-Q4</td>\n",
       "      <td>YISHUN</td>\n",
       "      <td>EXEC</td>\n",
       "      <td>565000</td>\n",
       "    </tr>\n",
       "  </tbody>\n",
       "</table>\n",
       "<p>104 rows × 4 columns</p>\n",
       "</div>"
      ],
      "text/plain": [
       "      quarter        town flat_type   price\n",
       "7802  2019-Q4  ANG MO KIO    3-ROOM  270000\n",
       "7803  2019-Q4  ANG MO KIO    4-ROOM  397500\n",
       "7804  2019-Q4  ANG MO KIO    5-ROOM  614000\n",
       "7805  2019-Q4  ANG MO KIO      EXEC     NaN\n",
       "7808  2019-Q4       BEDOK    3-ROOM  275000\n",
       "...       ...         ...       ...     ...\n",
       "7949  2019-Q4   WOODLANDS      EXEC  550000\n",
       "7952  2019-Q4      YISHUN    3-ROOM  265000\n",
       "7953  2019-Q4      YISHUN    4-ROOM  370000\n",
       "7954  2019-Q4      YISHUN    5-ROOM  470000\n",
       "7955  2019-Q4      YISHUN      EXEC  565000\n",
       "\n",
       "[104 rows x 4 columns]"
      ]
     },
     "execution_count": 3,
     "metadata": {},
     "output_type": "execute_result"
    }
   ],
   "source": [
    "# select only data of 4Q 2019, and remove 1-room and 2-room type\n",
    "df=df[df['quarter'].str.contains(\"2019-Q4\")]\n",
    "df=df[~df['flat_type'].str.contains(\"1\")]\n",
    "df=df[~df['flat_type'].str.contains(\"2\")]\n",
    "df"
   ]
  },
  {
   "cell_type": "code",
   "execution_count": 4,
   "metadata": {},
   "outputs": [],
   "source": [
    "df=df.dropna()"
   ]
  },
  {
   "cell_type": "code",
   "execution_count": 5,
   "metadata": {},
   "outputs": [
    {
     "data": {
      "text/html": [
       "<div>\n",
       "<style scoped>\n",
       "    .dataframe tbody tr th:only-of-type {\n",
       "        vertical-align: middle;\n",
       "    }\n",
       "\n",
       "    .dataframe tbody tr th {\n",
       "        vertical-align: top;\n",
       "    }\n",
       "\n",
       "    .dataframe thead th {\n",
       "        text-align: right;\n",
       "    }\n",
       "</style>\n",
       "<table border=\"1\" class=\"dataframe\">\n",
       "  <thead>\n",
       "    <tr style=\"text-align: right;\">\n",
       "      <th></th>\n",
       "      <th>quarter</th>\n",
       "      <th>town</th>\n",
       "      <th>flat_type</th>\n",
       "      <th>price</th>\n",
       "    </tr>\n",
       "  </thead>\n",
       "  <tbody>\n",
       "    <tr>\n",
       "      <td>7802</td>\n",
       "      <td>2019-Q4</td>\n",
       "      <td>ANG MO KIO</td>\n",
       "      <td>3-ROOM</td>\n",
       "      <td>270000</td>\n",
       "    </tr>\n",
       "    <tr>\n",
       "      <td>7803</td>\n",
       "      <td>2019-Q4</td>\n",
       "      <td>ANG MO KIO</td>\n",
       "      <td>4-ROOM</td>\n",
       "      <td>397500</td>\n",
       "    </tr>\n",
       "    <tr>\n",
       "      <td>7804</td>\n",
       "      <td>2019-Q4</td>\n",
       "      <td>ANG MO KIO</td>\n",
       "      <td>5-ROOM</td>\n",
       "      <td>614000</td>\n",
       "    </tr>\n",
       "    <tr>\n",
       "      <td>7808</td>\n",
       "      <td>2019-Q4</td>\n",
       "      <td>BEDOK</td>\n",
       "      <td>3-ROOM</td>\n",
       "      <td>275000</td>\n",
       "    </tr>\n",
       "    <tr>\n",
       "      <td>7809</td>\n",
       "      <td>2019-Q4</td>\n",
       "      <td>BEDOK</td>\n",
       "      <td>4-ROOM</td>\n",
       "      <td>380000</td>\n",
       "    </tr>\n",
       "    <tr>\n",
       "      <td>...</td>\n",
       "      <td>...</td>\n",
       "      <td>...</td>\n",
       "      <td>...</td>\n",
       "      <td>...</td>\n",
       "    </tr>\n",
       "    <tr>\n",
       "      <td>7949</td>\n",
       "      <td>2019-Q4</td>\n",
       "      <td>WOODLANDS</td>\n",
       "      <td>EXEC</td>\n",
       "      <td>550000</td>\n",
       "    </tr>\n",
       "    <tr>\n",
       "      <td>7952</td>\n",
       "      <td>2019-Q4</td>\n",
       "      <td>YISHUN</td>\n",
       "      <td>3-ROOM</td>\n",
       "      <td>265000</td>\n",
       "    </tr>\n",
       "    <tr>\n",
       "      <td>7953</td>\n",
       "      <td>2019-Q4</td>\n",
       "      <td>YISHUN</td>\n",
       "      <td>4-ROOM</td>\n",
       "      <td>370000</td>\n",
       "    </tr>\n",
       "    <tr>\n",
       "      <td>7954</td>\n",
       "      <td>2019-Q4</td>\n",
       "      <td>YISHUN</td>\n",
       "      <td>5-ROOM</td>\n",
       "      <td>470000</td>\n",
       "    </tr>\n",
       "    <tr>\n",
       "      <td>7955</td>\n",
       "      <td>2019-Q4</td>\n",
       "      <td>YISHUN</td>\n",
       "      <td>EXEC</td>\n",
       "      <td>565000</td>\n",
       "    </tr>\n",
       "  </tbody>\n",
       "</table>\n",
       "<p>98 rows × 4 columns</p>\n",
       "</div>"
      ],
      "text/plain": [
       "      quarter        town flat_type   price\n",
       "7802  2019-Q4  ANG MO KIO    3-ROOM  270000\n",
       "7803  2019-Q4  ANG MO KIO    4-ROOM  397500\n",
       "7804  2019-Q4  ANG MO KIO    5-ROOM  614000\n",
       "7808  2019-Q4       BEDOK    3-ROOM  275000\n",
       "7809  2019-Q4       BEDOK    4-ROOM  380000\n",
       "...       ...         ...       ...     ...\n",
       "7949  2019-Q4   WOODLANDS      EXEC  550000\n",
       "7952  2019-Q4      YISHUN    3-ROOM  265000\n",
       "7953  2019-Q4      YISHUN    4-ROOM  370000\n",
       "7954  2019-Q4      YISHUN    5-ROOM  470000\n",
       "7955  2019-Q4      YISHUN      EXEC  565000\n",
       "\n",
       "[98 rows x 4 columns]"
      ]
     },
     "execution_count": 5,
     "metadata": {},
     "output_type": "execute_result"
    }
   ],
   "source": [
    "df"
   ]
  },
  {
   "cell_type": "code",
   "execution_count": 6,
   "metadata": {},
   "outputs": [
    {
     "data": {
      "text/plain": [
       "array(['270000', '397500', '614000', '275000', '380000', '565000', '-',\n",
       "       '558000', '738400', '250000', '355000', '500000', '310000',\n",
       "       '684000', '783500', '301000', '402500', '621500', '410000',\n",
       "       '665000', '335900', '416500', '540000', '299000', '655000',\n",
       "       '256500', '445500', '280000', '388000', '489000', '265800',\n",
       "       '367500', '512500', '246900', '350000', '439000', '530000',\n",
       "       '317500', '610000', '725000', '420000', '635000', '358000',\n",
       "       '463900', '472500', '316500', '750000', '347500', '402000',\n",
       "       '470000', '339000', '425000', '478000', '575000', '300000',\n",
       "       '440000', '548000', '326500', '430000', '675000', '262500',\n",
       "       '505700', '738000', '240000', '330000', '398000', '550000',\n",
       "       '265000', '370000'], dtype=object)"
      ]
     },
     "execution_count": 6,
     "metadata": {},
     "output_type": "execute_result"
    }
   ],
   "source": [
    "df.price.unique()"
   ]
  },
  {
   "cell_type": "code",
   "execution_count": 7,
   "metadata": {},
   "outputs": [
    {
     "name": "stderr",
     "output_type": "stream",
     "text": [
      "C:\\Users\\Louie\\Anaconda3\\lib\\site-packages\\ipykernel_launcher.py:2: SettingWithCopyWarning: \n",
      "A value is trying to be set on a copy of a slice from a DataFrame.\n",
      "Try using .loc[row_indexer,col_indexer] = value instead\n",
      "\n",
      "See the caveats in the documentation: http://pandas.pydata.org/pandas-docs/stable/user_guide/indexing.html#returning-a-view-versus-a-copy\n",
      "  \n"
     ]
    },
    {
     "data": {
      "text/html": [
       "<div>\n",
       "<style scoped>\n",
       "    .dataframe tbody tr th:only-of-type {\n",
       "        vertical-align: middle;\n",
       "    }\n",
       "\n",
       "    .dataframe tbody tr th {\n",
       "        vertical-align: top;\n",
       "    }\n",
       "\n",
       "    .dataframe thead th {\n",
       "        text-align: right;\n",
       "    }\n",
       "</style>\n",
       "<table border=\"1\" class=\"dataframe\">\n",
       "  <thead>\n",
       "    <tr style=\"text-align: right;\">\n",
       "      <th></th>\n",
       "      <th>quarter</th>\n",
       "      <th>town</th>\n",
       "      <th>flat_type</th>\n",
       "      <th>price</th>\n",
       "    </tr>\n",
       "  </thead>\n",
       "  <tbody>\n",
       "    <tr>\n",
       "      <td>7802</td>\n",
       "      <td>2019-Q4</td>\n",
       "      <td>ANG MO KIO</td>\n",
       "      <td>3-ROOM</td>\n",
       "      <td>270000.0</td>\n",
       "    </tr>\n",
       "    <tr>\n",
       "      <td>7803</td>\n",
       "      <td>2019-Q4</td>\n",
       "      <td>ANG MO KIO</td>\n",
       "      <td>4-ROOM</td>\n",
       "      <td>397500.0</td>\n",
       "    </tr>\n",
       "    <tr>\n",
       "      <td>7804</td>\n",
       "      <td>2019-Q4</td>\n",
       "      <td>ANG MO KIO</td>\n",
       "      <td>5-ROOM</td>\n",
       "      <td>614000.0</td>\n",
       "    </tr>\n",
       "    <tr>\n",
       "      <td>7808</td>\n",
       "      <td>2019-Q4</td>\n",
       "      <td>BEDOK</td>\n",
       "      <td>3-ROOM</td>\n",
       "      <td>275000.0</td>\n",
       "    </tr>\n",
       "    <tr>\n",
       "      <td>7809</td>\n",
       "      <td>2019-Q4</td>\n",
       "      <td>BEDOK</td>\n",
       "      <td>4-ROOM</td>\n",
       "      <td>380000.0</td>\n",
       "    </tr>\n",
       "    <tr>\n",
       "      <td>...</td>\n",
       "      <td>...</td>\n",
       "      <td>...</td>\n",
       "      <td>...</td>\n",
       "      <td>...</td>\n",
       "    </tr>\n",
       "    <tr>\n",
       "      <td>7949</td>\n",
       "      <td>2019-Q4</td>\n",
       "      <td>WOODLANDS</td>\n",
       "      <td>EXEC</td>\n",
       "      <td>550000.0</td>\n",
       "    </tr>\n",
       "    <tr>\n",
       "      <td>7952</td>\n",
       "      <td>2019-Q4</td>\n",
       "      <td>YISHUN</td>\n",
       "      <td>3-ROOM</td>\n",
       "      <td>265000.0</td>\n",
       "    </tr>\n",
       "    <tr>\n",
       "      <td>7953</td>\n",
       "      <td>2019-Q4</td>\n",
       "      <td>YISHUN</td>\n",
       "      <td>4-ROOM</td>\n",
       "      <td>370000.0</td>\n",
       "    </tr>\n",
       "    <tr>\n",
       "      <td>7954</td>\n",
       "      <td>2019-Q4</td>\n",
       "      <td>YISHUN</td>\n",
       "      <td>5-ROOM</td>\n",
       "      <td>470000.0</td>\n",
       "    </tr>\n",
       "    <tr>\n",
       "      <td>7955</td>\n",
       "      <td>2019-Q4</td>\n",
       "      <td>YISHUN</td>\n",
       "      <td>EXEC</td>\n",
       "      <td>565000.0</td>\n",
       "    </tr>\n",
       "  </tbody>\n",
       "</table>\n",
       "<p>98 rows × 4 columns</p>\n",
       "</div>"
      ],
      "text/plain": [
       "      quarter        town flat_type     price\n",
       "7802  2019-Q4  ANG MO KIO    3-ROOM  270000.0\n",
       "7803  2019-Q4  ANG MO KIO    4-ROOM  397500.0\n",
       "7804  2019-Q4  ANG MO KIO    5-ROOM  614000.0\n",
       "7808  2019-Q4       BEDOK    3-ROOM  275000.0\n",
       "7809  2019-Q4       BEDOK    4-ROOM  380000.0\n",
       "...       ...         ...       ...       ...\n",
       "7949  2019-Q4   WOODLANDS      EXEC  550000.0\n",
       "7952  2019-Q4      YISHUN    3-ROOM  265000.0\n",
       "7953  2019-Q4      YISHUN    4-ROOM  370000.0\n",
       "7954  2019-Q4      YISHUN    5-ROOM  470000.0\n",
       "7955  2019-Q4      YISHUN      EXEC  565000.0\n",
       "\n",
       "[98 rows x 4 columns]"
      ]
     },
     "execution_count": 7,
     "metadata": {},
     "output_type": "execute_result"
    }
   ],
   "source": [
    "# force price fromo object to numeric\n",
    "df['price'] = pd.to_numeric(df['price'], errors='coerce')\n",
    "df"
   ]
  },
  {
   "cell_type": "code",
   "execution_count": 8,
   "metadata": {},
   "outputs": [
    {
     "data": {
      "text/html": [
       "<div>\n",
       "<style scoped>\n",
       "    .dataframe tbody tr th:only-of-type {\n",
       "        vertical-align: middle;\n",
       "    }\n",
       "\n",
       "    .dataframe tbody tr th {\n",
       "        vertical-align: top;\n",
       "    }\n",
       "\n",
       "    .dataframe thead th {\n",
       "        text-align: right;\n",
       "    }\n",
       "</style>\n",
       "<table border=\"1\" class=\"dataframe\">\n",
       "  <thead>\n",
       "    <tr style=\"text-align: right;\">\n",
       "      <th></th>\n",
       "      <th>quarter</th>\n",
       "      <th>town</th>\n",
       "      <th>flat_type</th>\n",
       "      <th>price</th>\n",
       "    </tr>\n",
       "  </thead>\n",
       "  <tbody>\n",
       "    <tr>\n",
       "      <td>7802</td>\n",
       "      <td>2019-Q4</td>\n",
       "      <td>ANG MO KIO</td>\n",
       "      <td>3-ROOM</td>\n",
       "      <td>270000.0</td>\n",
       "    </tr>\n",
       "    <tr>\n",
       "      <td>7803</td>\n",
       "      <td>2019-Q4</td>\n",
       "      <td>ANG MO KIO</td>\n",
       "      <td>4-ROOM</td>\n",
       "      <td>397500.0</td>\n",
       "    </tr>\n",
       "    <tr>\n",
       "      <td>7804</td>\n",
       "      <td>2019-Q4</td>\n",
       "      <td>ANG MO KIO</td>\n",
       "      <td>5-ROOM</td>\n",
       "      <td>614000.0</td>\n",
       "    </tr>\n",
       "    <tr>\n",
       "      <td>7808</td>\n",
       "      <td>2019-Q4</td>\n",
       "      <td>BEDOK</td>\n",
       "      <td>3-ROOM</td>\n",
       "      <td>275000.0</td>\n",
       "    </tr>\n",
       "    <tr>\n",
       "      <td>7809</td>\n",
       "      <td>2019-Q4</td>\n",
       "      <td>BEDOK</td>\n",
       "      <td>4-ROOM</td>\n",
       "      <td>380000.0</td>\n",
       "    </tr>\n",
       "    <tr>\n",
       "      <td>...</td>\n",
       "      <td>...</td>\n",
       "      <td>...</td>\n",
       "      <td>...</td>\n",
       "      <td>...</td>\n",
       "    </tr>\n",
       "    <tr>\n",
       "      <td>7949</td>\n",
       "      <td>2019-Q4</td>\n",
       "      <td>WOODLANDS</td>\n",
       "      <td>EXEC</td>\n",
       "      <td>550000.0</td>\n",
       "    </tr>\n",
       "    <tr>\n",
       "      <td>7952</td>\n",
       "      <td>2019-Q4</td>\n",
       "      <td>YISHUN</td>\n",
       "      <td>3-ROOM</td>\n",
       "      <td>265000.0</td>\n",
       "    </tr>\n",
       "    <tr>\n",
       "      <td>7953</td>\n",
       "      <td>2019-Q4</td>\n",
       "      <td>YISHUN</td>\n",
       "      <td>4-ROOM</td>\n",
       "      <td>370000.0</td>\n",
       "    </tr>\n",
       "    <tr>\n",
       "      <td>7954</td>\n",
       "      <td>2019-Q4</td>\n",
       "      <td>YISHUN</td>\n",
       "      <td>5-ROOM</td>\n",
       "      <td>470000.0</td>\n",
       "    </tr>\n",
       "    <tr>\n",
       "      <td>7955</td>\n",
       "      <td>2019-Q4</td>\n",
       "      <td>YISHUN</td>\n",
       "      <td>EXEC</td>\n",
       "      <td>565000.0</td>\n",
       "    </tr>\n",
       "  </tbody>\n",
       "</table>\n",
       "<p>74 rows × 4 columns</p>\n",
       "</div>"
      ],
      "text/plain": [
       "      quarter        town flat_type     price\n",
       "7802  2019-Q4  ANG MO KIO    3-ROOM  270000.0\n",
       "7803  2019-Q4  ANG MO KIO    4-ROOM  397500.0\n",
       "7804  2019-Q4  ANG MO KIO    5-ROOM  614000.0\n",
       "7808  2019-Q4       BEDOK    3-ROOM  275000.0\n",
       "7809  2019-Q4       BEDOK    4-ROOM  380000.0\n",
       "...       ...         ...       ...       ...\n",
       "7949  2019-Q4   WOODLANDS      EXEC  550000.0\n",
       "7952  2019-Q4      YISHUN    3-ROOM  265000.0\n",
       "7953  2019-Q4      YISHUN    4-ROOM  370000.0\n",
       "7954  2019-Q4      YISHUN    5-ROOM  470000.0\n",
       "7955  2019-Q4      YISHUN      EXEC  565000.0\n",
       "\n",
       "[74 rows x 4 columns]"
      ]
     },
     "execution_count": 8,
     "metadata": {},
     "output_type": "execute_result"
    }
   ],
   "source": [
    "df=df.dropna()\n",
    "df"
   ]
  },
  {
   "cell_type": "code",
   "execution_count": 9,
   "metadata": {},
   "outputs": [
    {
     "data": {
      "text/plain": [
       "quarter       object\n",
       "town          object\n",
       "flat_type     object\n",
       "price        float64\n",
       "dtype: object"
      ]
     },
     "execution_count": 9,
     "metadata": {},
     "output_type": "execute_result"
    }
   ],
   "source": [
    "df.dtypes"
   ]
  },
  {
   "cell_type": "code",
   "execution_count": 10,
   "metadata": {},
   "outputs": [
    {
     "data": {
      "text/html": [
       "<div>\n",
       "<style scoped>\n",
       "    .dataframe tbody tr th:only-of-type {\n",
       "        vertical-align: middle;\n",
       "    }\n",
       "\n",
       "    .dataframe tbody tr th {\n",
       "        vertical-align: top;\n",
       "    }\n",
       "\n",
       "    .dataframe thead th {\n",
       "        text-align: right;\n",
       "    }\n",
       "</style>\n",
       "<table border=\"1\" class=\"dataframe\">\n",
       "  <thead>\n",
       "    <tr style=\"text-align: right;\">\n",
       "      <th></th>\n",
       "      <th>town</th>\n",
       "      <th>flat_type</th>\n",
       "      <th>price</th>\n",
       "    </tr>\n",
       "  </thead>\n",
       "  <tbody>\n",
       "    <tr>\n",
       "      <td>7802</td>\n",
       "      <td>ANG MO KIO</td>\n",
       "      <td>3-ROOM</td>\n",
       "      <td>270000.0</td>\n",
       "    </tr>\n",
       "    <tr>\n",
       "      <td>7803</td>\n",
       "      <td>ANG MO KIO</td>\n",
       "      <td>4-ROOM</td>\n",
       "      <td>397500.0</td>\n",
       "    </tr>\n",
       "    <tr>\n",
       "      <td>7804</td>\n",
       "      <td>ANG MO KIO</td>\n",
       "      <td>5-ROOM</td>\n",
       "      <td>614000.0</td>\n",
       "    </tr>\n",
       "    <tr>\n",
       "      <td>7808</td>\n",
       "      <td>BEDOK</td>\n",
       "      <td>3-ROOM</td>\n",
       "      <td>275000.0</td>\n",
       "    </tr>\n",
       "    <tr>\n",
       "      <td>7809</td>\n",
       "      <td>BEDOK</td>\n",
       "      <td>4-ROOM</td>\n",
       "      <td>380000.0</td>\n",
       "    </tr>\n",
       "    <tr>\n",
       "      <td>...</td>\n",
       "      <td>...</td>\n",
       "      <td>...</td>\n",
       "      <td>...</td>\n",
       "    </tr>\n",
       "    <tr>\n",
       "      <td>7949</td>\n",
       "      <td>WOODLANDS</td>\n",
       "      <td>EXEC</td>\n",
       "      <td>550000.0</td>\n",
       "    </tr>\n",
       "    <tr>\n",
       "      <td>7952</td>\n",
       "      <td>YISHUN</td>\n",
       "      <td>3-ROOM</td>\n",
       "      <td>265000.0</td>\n",
       "    </tr>\n",
       "    <tr>\n",
       "      <td>7953</td>\n",
       "      <td>YISHUN</td>\n",
       "      <td>4-ROOM</td>\n",
       "      <td>370000.0</td>\n",
       "    </tr>\n",
       "    <tr>\n",
       "      <td>7954</td>\n",
       "      <td>YISHUN</td>\n",
       "      <td>5-ROOM</td>\n",
       "      <td>470000.0</td>\n",
       "    </tr>\n",
       "    <tr>\n",
       "      <td>7955</td>\n",
       "      <td>YISHUN</td>\n",
       "      <td>EXEC</td>\n",
       "      <td>565000.0</td>\n",
       "    </tr>\n",
       "  </tbody>\n",
       "</table>\n",
       "<p>74 rows × 3 columns</p>\n",
       "</div>"
      ],
      "text/plain": [
       "            town flat_type     price\n",
       "7802  ANG MO KIO    3-ROOM  270000.0\n",
       "7803  ANG MO KIO    4-ROOM  397500.0\n",
       "7804  ANG MO KIO    5-ROOM  614000.0\n",
       "7808       BEDOK    3-ROOM  275000.0\n",
       "7809       BEDOK    4-ROOM  380000.0\n",
       "...          ...       ...       ...\n",
       "7949   WOODLANDS      EXEC  550000.0\n",
       "7952      YISHUN    3-ROOM  265000.0\n",
       "7953      YISHUN    4-ROOM  370000.0\n",
       "7954      YISHUN    5-ROOM  470000.0\n",
       "7955      YISHUN      EXEC  565000.0\n",
       "\n",
       "[74 rows x 3 columns]"
      ]
     },
     "execution_count": 10,
     "metadata": {},
     "output_type": "execute_result"
    }
   ],
   "source": [
    "df=df.drop(['quarter'], axis=1)\n",
    "df"
   ]
  },
  {
   "cell_type": "markdown",
   "metadata": {},
   "source": [
    "# Create new df for all room types"
   ]
  },
  {
   "cell_type": "code",
   "execution_count": 11,
   "metadata": {},
   "outputs": [
    {
     "data": {
      "text/plain": [
       "array(['3-ROOM', '4-ROOM', '5-ROOM', 'EXEC'], dtype=object)"
      ]
     },
     "execution_count": 11,
     "metadata": {},
     "output_type": "execute_result"
    }
   ],
   "source": [
    "# check flat type values\n",
    "df.flat_type.unique()"
   ]
  },
  {
   "cell_type": "code",
   "execution_count": 12,
   "metadata": {},
   "outputs": [],
   "source": [
    "# create new df for all room types\n",
    "df3=df[df['flat_type'].str.contains(\"3-ROOM\")]\n",
    "df3=df3.drop(['flat_type'], axis=1)\n",
    "df3 = df3.sort_values(by ='price' , ascending=True)\n",
    "\n",
    "df4=df[df['flat_type'].str.contains(\"4-ROOM\")]\n",
    "df4=df4.drop(['flat_type'], axis=1)\n",
    "df4 = df4.sort_values(by ='price' , ascending=True)\n",
    "\n",
    "df5=df[df['flat_type'].str.contains(\"5-ROOM\")]\n",
    "df5=df5.drop(['flat_type'], axis=1)\n",
    "df5 = df5.sort_values(by ='price' , ascending=True)\n",
    "\n",
    "dfex=df[df['flat_type'].str.contains(\"EXEC\")]\n",
    "dfex=dfex.drop(['flat_type'], axis=1)\n",
    "dfex = dfex.sort_values(by ='price' , ascending=True)"
   ]
  },
  {
   "cell_type": "markdown",
   "metadata": {},
   "source": [
    "# Plot charts for all room types"
   ]
  },
  {
   "cell_type": "code",
   "execution_count": 13,
   "metadata": {},
   "outputs": [
    {
     "data": {
      "text/html": [
       "<div>\n",
       "<style scoped>\n",
       "    .dataframe tbody tr th:only-of-type {\n",
       "        vertical-align: middle;\n",
       "    }\n",
       "\n",
       "    .dataframe tbody tr th {\n",
       "        vertical-align: top;\n",
       "    }\n",
       "\n",
       "    .dataframe thead th {\n",
       "        text-align: right;\n",
       "    }\n",
       "</style>\n",
       "<table border=\"1\" class=\"dataframe\">\n",
       "  <thead>\n",
       "    <tr style=\"text-align: right;\">\n",
       "      <th></th>\n",
       "      <th>price</th>\n",
       "    </tr>\n",
       "    <tr>\n",
       "      <th>town</th>\n",
       "      <th></th>\n",
       "    </tr>\n",
       "  </thead>\n",
       "  <tbody>\n",
       "    <tr>\n",
       "      <td>SEMBAWANG</td>\n",
       "      <td>470000.0</td>\n",
       "    </tr>\n",
       "    <tr>\n",
       "      <td>JURONG WEST</td>\n",
       "      <td>530000.0</td>\n",
       "    </tr>\n",
       "    <tr>\n",
       "      <td>CHOA CHU KANG</td>\n",
       "      <td>540000.0</td>\n",
       "    </tr>\n",
       "    <tr>\n",
       "      <td>WOODLANDS</td>\n",
       "      <td>550000.0</td>\n",
       "    </tr>\n",
       "    <tr>\n",
       "      <td>YISHUN</td>\n",
       "      <td>565000.0</td>\n",
       "    </tr>\n",
       "    <tr>\n",
       "      <td>SENGKANG</td>\n",
       "      <td>575000.0</td>\n",
       "    </tr>\n",
       "    <tr>\n",
       "      <td>BUKIT PANJANG</td>\n",
       "      <td>621500.0</td>\n",
       "    </tr>\n",
       "    <tr>\n",
       "      <td>PASIR RIS</td>\n",
       "      <td>635000.0</td>\n",
       "    </tr>\n",
       "    <tr>\n",
       "      <td>HOUGANG</td>\n",
       "      <td>665000.0</td>\n",
       "    </tr>\n",
       "    <tr>\n",
       "      <td>TAMPINES</td>\n",
       "      <td>675000.0</td>\n",
       "    </tr>\n",
       "  </tbody>\n",
       "</table>\n",
       "</div>"
      ],
      "text/plain": [
       "                  price\n",
       "town                   \n",
       "SEMBAWANG      470000.0\n",
       "JURONG WEST    530000.0\n",
       "CHOA CHU KANG  540000.0\n",
       "WOODLANDS      550000.0\n",
       "YISHUN         565000.0\n",
       "SENGKANG       575000.0\n",
       "BUKIT PANJANG  621500.0\n",
       "PASIR RIS      635000.0\n",
       "HOUGANG        665000.0\n",
       "TAMPINES       675000.0"
      ]
     },
     "execution_count": 13,
     "metadata": {},
     "output_type": "execute_result"
    }
   ],
   "source": [
    "df3.set_index('town')\n",
    "df4.set_index('town')\n",
    "df5.set_index('town')\n",
    "dfex.set_index('town')"
   ]
  },
  {
   "cell_type": "code",
   "execution_count": 14,
   "metadata": {},
   "outputs": [
    {
     "data": {
      "text/plain": [
       "<matplotlib.axes._subplots.AxesSubplot at 0x1cacbfda2c8>"
      ]
     },
     "execution_count": 14,
     "metadata": {},
     "output_type": "execute_result"
    },
    {
     "data": {
      "image/png": "[encoded data removed]",
      "text/plain": [
       "<Figure size 432x288 with 1 Axes>"
      ]
     },
     "metadata": {
      "needs_background": "light"
     },
     "output_type": "display_data"
    }
   ],
   "source": [
    "df3.plot(title='Price of 3-Room at 4Q 2019',kind='bar',x='town',y='price')"
   ]
  },
  {
   "cell_type": "code",
   "execution_count": 15,
   "metadata": {},
   "outputs": [
    {
     "data": {
      "text/plain": [
       "<matplotlib.axes._subplots.AxesSubplot at 0x1cacc320688>"
      ]
     },
     "execution_count": 15,
     "metadata": {},
     "output_type": "execute_result"
    },
    {
     "data": {
      "image/png": "[encoded data removed]",
      "text/plain": [
       "<Figure size 432x288 with 1 Axes>"
      ]
     },
     "metadata": {
      "needs_background": "light"
     },
     "output_type": "display_data"
    }
   ],
   "source": [
    "df4.plot(title='Price of 4-Room at 4Q 2019',kind='bar',x='town',y='price')"
   ]
  },
  {
   "cell_type": "code",
   "execution_count": 16,
   "metadata": {},
   "outputs": [
    {
     "data": {
      "text/plain": [
       "<matplotlib.axes._subplots.AxesSubplot at 0x1cacc45b708>"
      ]
     },
     "execution_count": 16,
     "metadata": {},
     "output_type": "execute_result"
    },
    {
     "data": {
      "image/png": "[encoded data removed]",
      "text/plain": [
       "<Figure size 432x288 with 1 Axes>"
      ]
     },
     "metadata": {
      "needs_background": "light"
     },
     "output_type": "display_data"
    }
   ],
   "source": [
    "df5.plot(title='Price of 5-Room at 4Q 2019',kind='bar',x='town',y='price')"
   ]
  },
  {
   "cell_type": "code",
   "execution_count": 17,
   "metadata": {},
   "outputs": [
    {
     "data": {
      "text/plain": [
       "<matplotlib.axes._subplots.AxesSubplot at 0x1cacc526f08>"
      ]
     },
     "execution_count": 17,
     "metadata": {},
     "output_type": "execute_result"
    },
    {
     "data": {
      "image/png": "[encoded data removed]",
      "text/plain": [
       "<Figure size 432x288 with 1 Axes>"
      ]
     },
     "metadata": {
      "needs_background": "light"
     },
     "output_type": "display_data"
    }
   ],
   "source": [
    "dfex.plot(title='Price of Executive flat at 4Q 2019',kind='bar',x='town',y='price')"
   ]
  },
  {
   "cell_type": "code",
   "execution_count": null,
   "metadata": {},
   "outputs": [],
   "source": []
  }
 ],
 "metadata": {
  "kernelspec": {
   "display_name": "Python 3",
   "language": "python",
   "name": "python3"
  },
  "language_info": {
   "codemirror_mode": {
    "name": "ipython",
    "version": 3
   },
   "file_extension": ".py",
   "mimetype": "text/x-python",
   "name": "python",
   "nbconvert_exporter": "python",
   "pygments_lexer": "ipython3",
   "version": "3.7.4"
  }
 },
 "nbformat": 4,
 "nbformat_minor": 2
}
